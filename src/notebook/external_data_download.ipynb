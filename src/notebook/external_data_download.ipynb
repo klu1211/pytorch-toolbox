{
 "cells": [
  {
   "cell_type": "code",
   "execution_count": null,
   "metadata": {},
   "outputs": [],
   "source": [
    "import sys\n",
    "from multiprocessing import Pool\n",
    "from pathlib import Path\n",
    "\n",
    "from progress.bar import Bar\n",
    "import requests\n",
    "import pandas as pd\n",
    "from miniutils.progress_bar import parallel_progbar, progbar\n",
    "\n",
    "sys.path.append(\"../..\")\n",
    "from src.data import DataPaths"
   ]
  },
  {
   "cell_type": "markdown",
   "metadata": {},
   "source": [
    "##### Setup the info to download the paths"
   ]
  },
  {
   "cell_type": "code",
   "execution_count": null,
   "metadata": {},
   "outputs": [],
   "source": [
    "colors = ['red','green','blue','yellow']\n",
    "save_path = DataPaths.TRAIN_IMAGES_HPAv18\n",
    "save_path.mkdir(exist_ok=True, parents=True)"
   ]
  },
  {
   "cell_type": "code",
   "execution_count": null,
   "metadata": {},
   "outputs": [],
   "source": [
    "HPAv18_URL = 'http://v18.proteinatlas.org/images/'\n",
    "img_ids = pd.read_csv(DataPaths.TRAIN_LABELS_HPAv18)[\"Id\"]"
   ]
  },
  {
   "cell_type": "markdown",
   "metadata": {},
   "source": [
    "##### Setup urls"
   ]
  },
  {
   "cell_type": "code",
   "execution_count": null,
   "metadata": {},
   "outputs": [],
   "source": [
    "names = []\n",
    "urls = []\n",
    "for img_id in progbar(img_ids): # [:5] means downloard only first 5 samples, if it works, please remove it\n",
    "    folder_name, *file_name = img_id.split('_')\n",
    "    for color in colors:\n",
    "        img_path = f\"{folder_name}/{'_'.join(file_name)}_{color}.jpg\"\n",
    "        img_name = f\"{img_id}_{color}.jpg\"\n",
    "        img_url = HPAv18_URL + img_path\n",
    "        names.append(img_name)\n",
    "        urls.append(img_url)"
   ]
  },
  {
   "cell_type": "markdown",
   "metadata": {},
   "source": [
    "##### Use parallel processing to DL files"
   ]
  },
  {
   "cell_type": "code",
   "execution_count": null,
   "metadata": {},
   "outputs": [],
   "source": [
    "names_and_urls = zip(names, urls)"
   ]
  },
  {
   "cell_type": "code",
   "execution_count": null,
   "metadata": {},
   "outputs": [],
   "source": [
    "def download_from_url(data):\n",
    "    name, url = data\n",
    "    r = requests.get(url, allow_redirects=True)\n",
    "    open(save_path / name, 'wb').write(r.content)"
   ]
  },
  {
   "cell_type": "code",
   "execution_count": null,
   "metadata": {},
   "outputs": [],
   "source": [
    "parallel_progbar(download_from_url, names_and_urls)"
   ]
  }
 ],
 "metadata": {
  "kernelspec": {
   "display_name": "Python 3",
   "language": "python",
   "name": "python3"
  },
  "language_info": {
   "codemirror_mode": {
    "name": "ipython",
    "version": 3
   },
   "file_extension": ".py",
   "mimetype": "text/x-python",
   "name": "python",
   "nbconvert_exporter": "python",
   "pygments_lexer": "ipython3",
   "version": "3.7.2"
  }
 },
 "nbformat": 4,
 "nbformat_minor": 2
}
