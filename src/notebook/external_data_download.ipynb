{
 "cells": [
  {
   "cell_type": "code",
   "execution_count": 1,
   "metadata": {},
   "outputs": [],
   "source": [
    "from progress.bar import Bar\n",
    "from multiprocessing import Pool\n",
    "from pathlib import Path\n",
    "import requests\n",
    "import pandas as pd"
   ]
  },
  {
   "cell_type": "markdown",
   "metadata": {},
   "source": [
    "##### Setup the info to download the paths"
   ]
  },
  {
   "cell_type": "code",
   "execution_count": null,
   "metadata": {},
   "outputs": [],
   "source": [
    "colors = ['red','green','blue','yellow']\n",
    "DIR = Path(\"../data/HPAv18_train/\")\n",
    "DIR.mkdir(exist_ok=True, parents=True)\n",
    "v18_url = 'http://v18.proteinatlas.org/images/'\n",
    "imgList = pd.read_csv(\"../data/HPAv18RBGY_wodpl.csv\")"
   ]
  },
  {
   "cell_type": "markdown",
   "metadata": {},
   "source": [
    "##### Setup urls"
   ]
  },
  {
   "cell_type": "code",
   "execution_count": 41,
   "metadata": {},
   "outputs": [],
   "source": [
    "urls = []\n",
    "for i in tqdm_notebook(imgList['Id']): # [:5] means downloard only first 5 samples, if it works, please remove it\n",
    "    img = i.split('_')\n",
    "    for color in colors:\n",
    "        img_path = img[0] + '/' + \"_\".join(img[1:]) + \"_\" + color + \".jpg\"\n",
    "        img_name = i + \"_\" + color + \".jpg\"\n",
    "        img_url = v18_url + img_path\n",
    "        urls.append((img_url, img_name))"
   ]
  },
  {
   "cell_type": "markdown",
   "metadata": {},
   "source": [
    "##### Use parallel processing to DL files"
   ]
  },
  {
   "cell_type": "code",
   "execution_count": 41,
   "metadata": {},
   "outputs": [],
   "source": [
    "def job(data):\n",
    "    url, img_name = data\n",
    "    r = requests.get(url, allow_redirects=True)\n",
    "    open(DIR / img_name, 'wb').write(r.content)\n",
    "\n",
    "pool = Pool()\n",
    "inputs = range(len(urls))\n",
    "bar = Bar(\"Processing\", max=len(urls))\n",
    "for i in pool.imap(job, urls):\n",
    "    bar.next()\n",
    "bar.finish()"
   ]
  }
 ],
 "metadata": {
  "kernelspec": {
   "display_name": "Python 3",
   "language": "python",
   "name": "python3"
  },
  "language_info": {
   "codemirror_mode": {
    "name": "ipython",
    "version": 3
   },
   "file_extension": ".py",
   "mimetype": "text/x-python",
   "name": "python",
   "nbconvert_exporter": "python",
   "pygments_lexer": "ipython3",
   "version": "3.7.2"
  }
 },
 "nbformat": 4,
 "nbformat_minor": 2
}
