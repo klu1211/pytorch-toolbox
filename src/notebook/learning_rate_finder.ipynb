{
 "cells": [
  {
   "cell_type": "code",
   "execution_count": 5,
   "metadata": {},
   "outputs": [],
   "source": [
    "%load_ext autoreload\n",
    "%autoreload 2"
   ]
  },
  {
   "cell_type": "code",
   "execution_count": 6,
   "metadata": {},
   "outputs": [
    {
     "name": "stdout",
     "output_type": "stream",
     "text": [
      "env: CUDA_DEVICE_ORDER=PCI_BUS_ID\n",
      "env: CUDA_VISIBLE_DEVICES=0\n"
     ]
    }
   ],
   "source": [
    "%env CUDA_DEVICE_ORDER=PCI_BUS_ID\n",
    "%env CUDA_VISIBLE_DEVICES=0"
   ]
  },
  {
   "cell_type": "code",
   "execution_count": 7,
   "metadata": {},
   "outputs": [],
   "source": [
    "from pathlib import Path\n",
    "import sys\n",
    "import yaml\n",
    "import matplotlib.pyplot as plt\n",
    "sys.path.append(\"../../\")"
   ]
  },
  {
   "cell_type": "code",
   "execution_count": 8,
   "metadata": {},
   "outputs": [],
   "source": [
    "from pytorch_toolbox.pipeline import PipelineGraph\n",
    "from pytorch_toolbox.fastai_extensions.vision.utils import tensor2img\n",
    "from src.train_with_template import lookups\n",
    "from src.image import plot_rgby"
   ]
  },
  {
   "cell_type": "markdown",
   "metadata": {},
   "source": [
    "#### Load the configuration file needed to construct the DAG for the pipeline"
   ]
  },
  {
   "cell_type": "code",
   "execution_count": 9,
   "metadata": {},
   "outputs": [],
   "source": [
    "# CONFIG_FILE = Path(\"../configs/se_resnext50_32x4d_two_input_fc_template.yml\")\n",
    "CONFIG_FILE = Path(\"../configs/densenet121_two_input_fc_with_tta_template.yml\")"
   ]
  },
  {
   "cell_type": "code",
   "execution_count": 10,
   "metadata": {},
   "outputs": [],
   "source": [
    "with CONFIG_FILE.open(\"r\") as f:\n",
    "    config = yaml.load(f)"
   ]
  },
  {
   "cell_type": "code",
   "execution_count": 11,
   "metadata": {},
   "outputs": [],
   "source": [
    "pipeline_graph = PipelineGraph.create_pipeline_graph_from_config(config)"
   ]
  },
  {
   "cell_type": "code",
   "execution_count": 12,
   "metadata": {},
   "outputs": [
    {
     "data": {
      "text/plain": [
       "['CreateLovaszHingeFlatLoss',\n",
       " 'CreateSoftF1Loss',\n",
       " 'CreateFocalLoss',\n",
       " 'CreateFocalLossMetric',\n",
       " 'CreateF1SoftMetric',\n",
       " 'CreateAccuracyMetric',\n",
       " 'CreateModel',\n",
       " 'CreateResultRecorder',\n",
       " 'CreateFiveCropTTAPredictionCallback',\n",
       " 'CreateGradientClippingLearnerCallback',\n",
       " 'CreateLabelExtractorCallback',\n",
       " 'CreateCallbacksForInference',\n",
       " 'CreateLearnerForInference',\n",
       " 'CreateCallbacks',\n",
       " 'CreateTimeStampedSavePath',\n",
       " 'RunRecordResults',\n",
       " 'SaveConfiguration',\n",
       " 'CreateCSVLoggerLearnerCallback',\n",
       " 'CreateSaveModelCallback',\n",
       " 'CreateTrainingScheme',\n",
       " 'CreateSamplerFunction',\n",
       " 'CreateSampler',\n",
       " 'CreateDenormalizeFunction',\n",
       " 'CreateOutputRecorderLearnerCallback',\n",
       " 'CreateLearnerCallbacks',\n",
       " 'CreateLearner',\n",
       " 'CreateNormalizeFunction',\n",
       " 'CreateFiveCropTTAFunction',\n",
       " 'CreateTestAugmentationFunction',\n",
       " 'CreateAugmentationFunction',\n",
       " 'CreateOpenImageFunction',\n",
       " 'CreateTestingDataset',\n",
       " 'CreateDataBunchForInference',\n",
       " 'CreateInference',\n",
       " 'CreateValidationDataset',\n",
       " 'CreateTrainingDataset',\n",
       " 'LoadTrainingData',\n",
       " 'CreateDataSplitter',\n",
       " 'LoadTestingData',\n",
       " 'CreateDataBunch',\n",
       " 'RunTrainingLoop']"
      ]
     },
     "execution_count": 12,
     "metadata": {},
     "output_type": "execute_result"
    }
   ],
   "source": [
    "pipeline_graph.sorted_node_names"
   ]
  },
  {
   "cell_type": "markdown",
   "metadata": {},
   "source": [
    "#### Get the nodes needed to create the learner"
   ]
  },
  {
   "cell_type": "code",
   "execution_count": 13,
   "metadata": {},
   "outputs": [],
   "source": [
    "pipeline_graph.run(lookups, to_node=\"CreateDataBunch\")"
   ]
  },
  {
   "cell_type": "code",
   "execution_count": 14,
   "metadata": {},
   "outputs": [],
   "source": [
    "create_data_splitter = pipeline_graph.get_node_output(\"CreateDataSplitter\")\n",
    "create_data_bunch = pipeline_graph.get_node_output(\"CreateDataBunch\")\n",
    "create_learner = pipeline_graph.get_node_output(\"CreateLearner\")"
   ]
  },
  {
   "cell_type": "code",
   "execution_count": 15,
   "metadata": {},
   "outputs": [],
   "source": [
    "train_idx, val_idx = next(iter(create_data_splitter()))"
   ]
  },
  {
   "cell_type": "code",
   "execution_count": 16,
   "metadata": {},
   "outputs": [],
   "source": [
    "data_bunch = create_data_bunch(train_idx, val_idx)"
   ]
  },
  {
   "cell_type": "markdown",
   "metadata": {},
   "source": [
    "#### Uncomment below to see the output of the data loader"
   ]
  },
  {
   "cell_type": "code",
   "execution_count": 17,
   "metadata": {},
   "outputs": [],
   "source": [
    "# data_bunch"
   ]
  },
  {
   "cell_type": "code",
   "execution_count": 18,
   "metadata": {},
   "outputs": [],
   "source": [
    "# train_image_batch, _ = next(iter(data_bunch.train_dl))"
   ]
  },
  {
   "cell_type": "code",
   "execution_count": 19,
   "metadata": {},
   "outputs": [],
   "source": [
    "# train_image = train_image_batch[0]"
   ]
  },
  {
   "cell_type": "code",
   "execution_count": 20,
   "metadata": {},
   "outputs": [],
   "source": [
    "# plot_rgby(tensor2img(train_image))"
   ]
  },
  {
   "cell_type": "code",
   "execution_count": 21,
   "metadata": {},
   "outputs": [],
   "source": [
    "# five_crop_images, _ = next(iter(data_bunch.valid_dl))"
   ]
  },
  {
   "cell_type": "code",
   "execution_count": 22,
   "metadata": {},
   "outputs": [],
   "source": [
    "# five_crop_image = five_crop_images[0]"
   ]
  },
  {
   "cell_type": "code",
   "execution_count": 23,
   "metadata": {},
   "outputs": [],
   "source": [
    "# five_crop_image.shape"
   ]
  },
  {
   "cell_type": "code",
   "execution_count": 24,
   "metadata": {},
   "outputs": [],
   "source": [
    "# for crop in five_crop_image:\n",
    "#     plot_rgby(tensor2img(crop))"
   ]
  },
  {
   "cell_type": "markdown",
   "metadata": {},
   "source": [
    "#### Find the optimal learning rate"
   ]
  },
  {
   "cell_type": "code",
   "execution_count": 25,
   "metadata": {},
   "outputs": [],
   "source": [
    "N_ITERS = 333"
   ]
  },
  {
   "cell_type": "code",
   "execution_count": 26,
   "metadata": {},
   "outputs": [
    {
     "name": "stdout",
     "output_type": "stream",
     "text": [
      "LR Finder is complete, type {learner_name}.recorder.plot() to see the graph.\n"
     ]
    },
    {
     "data": {
      "image/png": "[encoded data removed]",
      "text/plain": [
       "<Figure size 432x288 with 1 Axes>"
      ]
     },
     "metadata": {
      "needs_background": "light"
     },
     "output_type": "display_data"
    }
   ],
   "source": [
    "learner = create_learner(data_bunch)\n",
    "learner.lr_find(num_it=N_ITERS)\n",
    "learner.recorder.plot()"
   ]
  }
 ],
 "metadata": {
  "kernelspec": {
   "display_name": "Python 3",
   "language": "python",
   "name": "python3"
  },
  "language_info": {
   "codemirror_mode": {
    "name": "ipython",
    "version": 3
   },
   "file_extension": ".py",
   "mimetype": "text/x-python",
   "name": "python",
   "nbconvert_exporter": "python",
   "pygments_lexer": "ipython3",
   "version": "3.7.2"
  }
 },
 "nbformat": 4,
 "nbformat_minor": 2
}
