{
 "cells": [
  {
   "cell_type": "code",
   "execution_count": null,
   "metadata": {},
   "outputs": [],
   "source": [
    "import numpy as np\n",
    "import cv2\n",
    "import os\n",
    "import glob\n",
    "\n",
    "\n",
    "\n",
    "channelColors = ['red','green','blue','yellow']\n",
    "\n",
    "def readChannels(root_dir,imgid):\n",
    "  channels = []\n",
    "  for color in channelColors:\n",
    "    imagePath = root_dir + '/' + imgid + '_' + color + '.png'\n",
    "    chan = cv2.imread(imagePath,cv2.IMREAD_GRAYSCALE)\n",
    "    channels.append(chan)\n",
    "  channels = np.array(channels) \n",
    "  return channels\n",
    "\n",
    "def getImageIds(root_dir):\n",
    "  imageFilepaths = glob.glob(root_dir + '/*.png')\n",
    "  imgids = []\n",
    "  for fp in imageFilepaths:\n",
    "    d,f = os.path.split(fp)\n",
    "    name,ext = os.path.splitext(f)\n",
    "    fid,color = name.split('_')\n",
    "    imgids.append(fid)\n",
    "  imgids = list(set(imgids))\n",
    "  return imgids\n",
    "\n",
    "def makeImagePath(root_dir,imgid):\n",
    "  path = root_dir + '/' + imgid + '.npy' \n",
    "  return path\n",
    "\n",
    "def makeComposites(root_dir, save_dir, force=False):\n",
    "  imgids = getImageIds(root_dir)\n",
    "  for imgid in imgids:\n",
    "    imgPath = makeImagePath(root_dir,imgid)\n",
    "    if force or not os.path.exists(imgPath):\n",
    "      channels = readChannels(root_dir,imgid)\n",
    "      np.save(imgPath,channels,allow_pickle=True)\n",
    "\n",
    "def readComposite(root_dir,imgid):\n",
    "  imgPath = makeImagePath(root_dir,imgid)\n",
    "  channels = np.load(imgPath,allow_pickle=True)\n",
    "  return channels"
   ]
  },
  {
   "cell_type": "code",
   "execution_count": null,
   "metadata": {},
   "outputs": [],
   "source": [
    "separate_channel_dir = \"/media/hd1/data/Kaggle/human-protein-image-classification/HPAv18_train\"\n",
    "save_dir = \"../data/HPAv18_train_combined\"\n",
    "makeComposites(separate_channel_dir, save_dir)"
   ]
  },
  {
   "cell_type": "code",
   "execution_count": 60,
   "metadata": {},
   "outputs": [],
   "source": [
    "np.load(\"../data/HPAv18_train_combined/\")"
   ]
  },
  {
   "cell_type": "code",
   "execution_count": 61,
   "metadata": {},
   "outputs": [],
   "source": [
    "# imgIds = getImageIds(\"../data/HPAv18_train\", \"jpg\")"
   ]
  },
  {
   "cell_type": "code",
   "execution_count": 62,
   "metadata": {},
   "outputs": [],
   "source": [
    "# len(glob.glob(\"../data/HPAv18_train\" + '/*.jpg'))"
   ]
  },
  {
   "cell_type": "code",
   "execution_count": 64,
   "metadata": {},
   "outputs": [
    {
     "data": {
      "text/plain": [
       "HBox(children=(IntProgress(value=0, max=74606), HTML(value='')))"
      ]
     },
     "metadata": {},
     "output_type": "display_data"
    }
   ],
   "source": []
  },
  {
   "cell_type": "code",
   "execution_count": null,
   "metadata": {},
   "outputs": [],
   "source": []
  },
  {
   "cell_type": "code",
   "execution_count": 66,
   "metadata": {},
   "outputs": [],
   "source": [
    "import sys\n",
    "sys.path.append(\"..\")\n",
    "\n",
    "from pathlib import Path\n",
    "import matplotlib.pyplot as plt\n",
    "from src.data import DataPaths, open_rgby, open_numpy"
   ]
  },
  {
   "cell_type": "code",
   "execution_count": 67,
   "metadata": {},
   "outputs": [],
   "source": [
    "train_images_paths = sorted([Path(DataPaths.TRAIN_IMAGES, img_id) for img_id in\n",
    "               np.unique([p.name[:36] for p in DataPaths.TRAIN_IMAGES.glob(\"*\")])])[:1000]\n",
    "# train_images_paths = sorted(list(DataPaths.TRAIN_IMAGES.glob(\"*\")))[:20000]\n",
    "train_combined_images_paths = sorted(list(DataPaths.TRAIN_COMBINED_IMAGES.glob(\"*\")))[:1000]"
   ]
  },
  {
   "cell_type": "code",
   "execution_count": 68,
   "metadata": {},
   "outputs": [
    {
     "data": {
      "text/plain": [
       "HBox(children=(IntProgress(value=1, bar_style='info', max=1), HTML(value='')))"
      ]
     },
     "metadata": {},
     "output_type": "display_data"
    }
   ],
   "source": [
    "train_images = []\n",
    "for p in tqdm_notebook(train_images_paths):\n",
    "    train_images.append(open_rgby(p))"
   ]
  },
  {
   "cell_type": "code",
   "execution_count": null,
   "metadata": {},
   "outputs": [],
   "source": [
    "plt.imshow(train_images[30].px[:,:,:3])"
   ]
  },
  {
   "cell_type": "code",
   "execution_count": null,
   "metadata": {},
   "outputs": [],
   "source": [
    "train_images_combined = []\n",
    "for p in tqdm_notebook(train_combined_images_paths):\n",
    "    train_images_combined.append(open_numpy(p))"
   ]
  },
  {
   "cell_type": "code",
   "execution_count": null,
   "metadata": {},
   "outputs": [],
   "source": [
    "plt.imshow(train_images_combined[30].px[:, :, :3])"
   ]
  },
  {
   "cell_type": "code",
   "execution_count": null,
   "metadata": {},
   "outputs": [],
   "source": [
    "np.all(train_images_combined[30].px == train_images[30].px)"
   ]
  },
  {
   "cell_type": "markdown",
   "metadata": {},
   "source": [
    "##### Make sure that the order of the IDs are correct"
   ]
  },
  {
   "cell_type": "code",
   "execution_count": 18,
   "metadata": {},
   "outputs": [],
   "source": [
    "train_paths = [Path(DataPaths.TRAIN_IMAGES, img_id) for img_id in\n",
    "               np.unique([p.name[:36] for p in DataPaths.TRAIN_IMAGES.glob(\"*\")])]"
   ]
  },
  {
   "cell_type": "code",
   "execution_count": 19,
   "metadata": {},
   "outputs": [
    {
     "data": {
      "text/plain": [
       "31072"
      ]
     },
     "execution_count": 19,
     "metadata": {},
     "output_type": "execute_result"
    }
   ],
   "source": [
    "len(train_paths)"
   ]
  },
  {
   "cell_type": "code",
   "execution_count": 20,
   "metadata": {},
   "outputs": [
    {
     "data": {
      "text/plain": [
       "PosixPath('../data/train/00070df0-bbc3-11e8-b2bc-ac1f6b6435d0')"
      ]
     },
     "execution_count": 20,
     "metadata": {},
     "output_type": "execute_result"
    }
   ],
   "source": [
    "train_paths[0]"
   ]
  },
  {
   "cell_type": "code",
   "execution_count": 24,
   "metadata": {},
   "outputs": [],
   "source": [
    "train_paths_ = sorted([Path(DataPaths.TRAIN_COMBINED_IMAGES, img_id) for img_id in\n",
    "               np.unique([p.name[:36] for p in DataPaths.TRAIN_IMAGES.glob(\"*\")])])"
   ]
  },
  {
   "cell_type": "code",
   "execution_count": 25,
   "metadata": {},
   "outputs": [
    {
     "data": {
      "text/plain": [
       "PosixPath('../data/train_combined/00070df0-bbc3-11e8-b2bc-ac1f6b6435d0')"
      ]
     },
     "execution_count": 25,
     "metadata": {},
     "output_type": "execute_result"
    }
   ],
   "source": [
    "train_paths_[0]"
   ]
  },
  {
   "cell_type": "code",
   "execution_count": 26,
   "metadata": {},
   "outputs": [],
   "source": [
    "for i, j in zip(train_paths, train_paths_):\n",
    "    if i.stem != j.stem: print(\"different order\")"
   ]
  }
 ],
 "metadata": {
  "kernelspec": {
   "display_name": "Python [conda env:pytorch-toolbox]",
   "language": "python",
   "name": "conda-env-pytorch-toolbox-py"
  },
  "language_info": {
   "codemirror_mode": {
    "name": "ipython",
    "version": 3
   },
   "file_extension": ".py",
   "mimetype": "text/x-python",
   "name": "python",
   "nbconvert_exporter": "python",
   "pygments_lexer": "ipython3",
   "version": "3.7.0"
  }
 },
 "nbformat": 4,
 "nbformat_minor": 2
}
